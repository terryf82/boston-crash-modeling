{
 "cells": [
  {
   "cell_type": "markdown",
   "metadata": {
    "deletable": true,
    "editable": true
   },
   "source": [
    "## RNN Model for crash prediction\n",
    "### Developed by: bpben"
   ]
  },
  {
   "cell_type": "code",
   "execution_count": 3,
   "metadata": {
    "collapsed": false,
    "deletable": true,
    "editable": true
   },
   "outputs": [],
   "source": [
    "import re\n",
    "import csv\n",
    "import os\n",
    "import numpy as np\n",
    "import pandas as pd\n",
    "import matplotlib.pyplot as plt\n",
    "%matplotlib inline\n",
    "import seaborn as sns\n",
    "import scipy.stats as ss\n",
    "from glob import glob\n",
    "from sklearn.metrics import classification_report\n",
    "from sklearn.preprocessing import StandardScaler\n",
    "from scipy.stats import describe"
   ]
  },
  {
   "cell_type": "code",
   "execution_count": 4,
   "metadata": {
    "collapsed": false,
    "deletable": true,
    "editable": true
   },
   "outputs": [],
   "source": [
    "import math\n",
    "from keras.models import Sequential\n",
    "from keras.layers import Dense\n",
    "from keras.layers import LSTM\n",
    "from sklearn.preprocessing import MinMaxScaler\n",
    "from sklearn.metrics import mean_squared_error"
   ]
  },
  {
   "cell_type": "code",
   "execution_count": 5,
   "metadata": {
    "collapsed": true,
    "deletable": true,
    "editable": true
   },
   "outputs": [],
   "source": [
    "import sys\n",
    "sys.path.append('/Users/B/Documents')"
   ]
  },
  {
   "cell_type": "markdown",
   "metadata": {
    "deletable": true,
    "editable": true
   },
   "source": [
    "### Data processing\n",
    "The approach here is to create 3 time-lag features:\n",
    "\n",
    "1. crashes in the past week\n",
    "2. crashes in the past month\n",
    "3. crashes in the past quarter (three months)\n",
    "4. average crashes per week up to target week\n",
    "\n",
    "All features except 4 are calculated to exclude one another.  That is, crashes in the past month does not include the past week's crashes.  Crashes in the past quarter do not include the past month."
   ]
  },
  {
   "cell_type": "code",
   "execution_count": 6,
   "metadata": {
    "collapsed": true,
    "deletable": true,
    "editable": true
   },
   "outputs": [],
   "source": [
    "SEG_CHARS = ['AADT', 'SPEEDLIMIT', 'Struct_Cnd', 'Surface_Tp', 'F_F_Class']"
   ]
  },
  {
   "cell_type": "code",
   "execution_count": 8,
   "metadata": {
    "collapsed": false,
    "deletable": true,
    "editable": true
   },
   "outputs": [
    {
     "ename": "IOError",
     "evalue": "[Errno 2] No such file or directory: '../data/boston/processed/vz_predict_dataset.csv.gz'",
     "output_type": "error",
     "traceback": [
      "\u001b[0;31m---------------------------------------------------------------------------\u001b[0m",
      "\u001b[0;31mIOError\u001b[0m                                   Traceback (most recent call last)",
      "\u001b[0;32m<ipython-input-8-f480a12decf8>\u001b[0m in \u001b[0;36m<module>\u001b[0;34m()\u001b[0m\n\u001b[1;32m      1\u001b[0m \u001b[0;31m# Read in data\u001b[0m\u001b[0;34m\u001b[0m\u001b[0;34m\u001b[0m\u001b[0m\n\u001b[1;32m      2\u001b[0m data = pd.read_csv('../data/boston/processed/vz_predict_dataset.csv.gz', \n\u001b[0;32m----> 3\u001b[0;31m                    compression='gzip', dtype={'segment_id':'str'})\n\u001b[0m\u001b[1;32m      4\u001b[0m \u001b[0mdata\u001b[0m\u001b[0;34m.\u001b[0m\u001b[0msort_values\u001b[0m\u001b[0;34m(\u001b[0m\u001b[0;34m[\u001b[0m\u001b[0;34m'segment_id'\u001b[0m\u001b[0;34m,\u001b[0m \u001b[0;34m'year'\u001b[0m\u001b[0;34m,\u001b[0m\u001b[0;34m'week'\u001b[0m\u001b[0;34m]\u001b[0m\u001b[0;34m,\u001b[0m \u001b[0minplace\u001b[0m\u001b[0;34m=\u001b[0m\u001b[0mTrue\u001b[0m\u001b[0;34m)\u001b[0m\u001b[0;34m\u001b[0m\u001b[0m\n",
      "\u001b[0;32m/Users/B/anaconda/envs/cornerstone/lib/python2.7/site-packages/pandas/io/parsers.pyc\u001b[0m in \u001b[0;36mparser_f\u001b[0;34m(filepath_or_buffer, sep, delimiter, header, names, index_col, usecols, squeeze, prefix, mangle_dupe_cols, dtype, engine, converters, true_values, false_values, skipinitialspace, skiprows, nrows, na_values, keep_default_na, na_filter, verbose, skip_blank_lines, parse_dates, infer_datetime_format, keep_date_col, date_parser, dayfirst, iterator, chunksize, compression, thousands, decimal, lineterminator, quotechar, quoting, escapechar, comment, encoding, dialect, tupleize_cols, error_bad_lines, warn_bad_lines, skipfooter, skip_footer, doublequote, delim_whitespace, as_recarray, compact_ints, use_unsigned, low_memory, buffer_lines, memory_map, float_precision)\u001b[0m\n\u001b[1;32m    707\u001b[0m                     skip_blank_lines=skip_blank_lines)\n\u001b[1;32m    708\u001b[0m \u001b[0;34m\u001b[0m\u001b[0m\n\u001b[0;32m--> 709\u001b[0;31m         \u001b[0;32mreturn\u001b[0m \u001b[0m_read\u001b[0m\u001b[0;34m(\u001b[0m\u001b[0mfilepath_or_buffer\u001b[0m\u001b[0;34m,\u001b[0m \u001b[0mkwds\u001b[0m\u001b[0;34m)\u001b[0m\u001b[0;34m\u001b[0m\u001b[0m\n\u001b[0m\u001b[1;32m    710\u001b[0m \u001b[0;34m\u001b[0m\u001b[0m\n\u001b[1;32m    711\u001b[0m     \u001b[0mparser_f\u001b[0m\u001b[0;34m.\u001b[0m\u001b[0m__name__\u001b[0m \u001b[0;34m=\u001b[0m \u001b[0mname\u001b[0m\u001b[0;34m\u001b[0m\u001b[0m\n",
      "\u001b[0;32m/Users/B/anaconda/envs/cornerstone/lib/python2.7/site-packages/pandas/io/parsers.pyc\u001b[0m in \u001b[0;36m_read\u001b[0;34m(filepath_or_buffer, kwds)\u001b[0m\n\u001b[1;32m    447\u001b[0m \u001b[0;34m\u001b[0m\u001b[0m\n\u001b[1;32m    448\u001b[0m     \u001b[0;31m# Create the parser.\u001b[0m\u001b[0;34m\u001b[0m\u001b[0;34m\u001b[0m\u001b[0m\n\u001b[0;32m--> 449\u001b[0;31m     \u001b[0mparser\u001b[0m \u001b[0;34m=\u001b[0m \u001b[0mTextFileReader\u001b[0m\u001b[0;34m(\u001b[0m\u001b[0mfilepath_or_buffer\u001b[0m\u001b[0;34m,\u001b[0m \u001b[0;34m**\u001b[0m\u001b[0mkwds\u001b[0m\u001b[0;34m)\u001b[0m\u001b[0;34m\u001b[0m\u001b[0m\n\u001b[0m\u001b[1;32m    450\u001b[0m \u001b[0;34m\u001b[0m\u001b[0m\n\u001b[1;32m    451\u001b[0m     \u001b[0;32mif\u001b[0m \u001b[0mchunksize\u001b[0m \u001b[0;32mor\u001b[0m \u001b[0miterator\u001b[0m\u001b[0;34m:\u001b[0m\u001b[0;34m\u001b[0m\u001b[0m\n",
      "\u001b[0;32m/Users/B/anaconda/envs/cornerstone/lib/python2.7/site-packages/pandas/io/parsers.pyc\u001b[0m in \u001b[0;36m__init__\u001b[0;34m(self, f, engine, **kwds)\u001b[0m\n\u001b[1;32m    816\u001b[0m             \u001b[0mself\u001b[0m\u001b[0;34m.\u001b[0m\u001b[0moptions\u001b[0m\u001b[0;34m[\u001b[0m\u001b[0;34m'has_index_names'\u001b[0m\u001b[0;34m]\u001b[0m \u001b[0;34m=\u001b[0m \u001b[0mkwds\u001b[0m\u001b[0;34m[\u001b[0m\u001b[0;34m'has_index_names'\u001b[0m\u001b[0;34m]\u001b[0m\u001b[0;34m\u001b[0m\u001b[0m\n\u001b[1;32m    817\u001b[0m \u001b[0;34m\u001b[0m\u001b[0m\n\u001b[0;32m--> 818\u001b[0;31m         \u001b[0mself\u001b[0m\u001b[0;34m.\u001b[0m\u001b[0m_make_engine\u001b[0m\u001b[0;34m(\u001b[0m\u001b[0mself\u001b[0m\u001b[0;34m.\u001b[0m\u001b[0mengine\u001b[0m\u001b[0;34m)\u001b[0m\u001b[0;34m\u001b[0m\u001b[0m\n\u001b[0m\u001b[1;32m    819\u001b[0m \u001b[0;34m\u001b[0m\u001b[0m\n\u001b[1;32m    820\u001b[0m     \u001b[0;32mdef\u001b[0m \u001b[0mclose\u001b[0m\u001b[0;34m(\u001b[0m\u001b[0mself\u001b[0m\u001b[0;34m)\u001b[0m\u001b[0;34m:\u001b[0m\u001b[0;34m\u001b[0m\u001b[0m\n",
      "\u001b[0;32m/Users/B/anaconda/envs/cornerstone/lib/python2.7/site-packages/pandas/io/parsers.pyc\u001b[0m in \u001b[0;36m_make_engine\u001b[0;34m(self, engine)\u001b[0m\n\u001b[1;32m   1047\u001b[0m     \u001b[0;32mdef\u001b[0m \u001b[0m_make_engine\u001b[0m\u001b[0;34m(\u001b[0m\u001b[0mself\u001b[0m\u001b[0;34m,\u001b[0m \u001b[0mengine\u001b[0m\u001b[0;34m=\u001b[0m\u001b[0;34m'c'\u001b[0m\u001b[0;34m)\u001b[0m\u001b[0;34m:\u001b[0m\u001b[0;34m\u001b[0m\u001b[0m\n\u001b[1;32m   1048\u001b[0m         \u001b[0;32mif\u001b[0m \u001b[0mengine\u001b[0m \u001b[0;34m==\u001b[0m \u001b[0;34m'c'\u001b[0m\u001b[0;34m:\u001b[0m\u001b[0;34m\u001b[0m\u001b[0m\n\u001b[0;32m-> 1049\u001b[0;31m             \u001b[0mself\u001b[0m\u001b[0;34m.\u001b[0m\u001b[0m_engine\u001b[0m \u001b[0;34m=\u001b[0m \u001b[0mCParserWrapper\u001b[0m\u001b[0;34m(\u001b[0m\u001b[0mself\u001b[0m\u001b[0;34m.\u001b[0m\u001b[0mf\u001b[0m\u001b[0;34m,\u001b[0m \u001b[0;34m**\u001b[0m\u001b[0mself\u001b[0m\u001b[0;34m.\u001b[0m\u001b[0moptions\u001b[0m\u001b[0;34m)\u001b[0m\u001b[0;34m\u001b[0m\u001b[0m\n\u001b[0m\u001b[1;32m   1050\u001b[0m         \u001b[0;32melse\u001b[0m\u001b[0;34m:\u001b[0m\u001b[0;34m\u001b[0m\u001b[0m\n\u001b[1;32m   1051\u001b[0m             \u001b[0;32mif\u001b[0m \u001b[0mengine\u001b[0m \u001b[0;34m==\u001b[0m \u001b[0;34m'python'\u001b[0m\u001b[0;34m:\u001b[0m\u001b[0;34m\u001b[0m\u001b[0m\n",
      "\u001b[0;32m/Users/B/anaconda/envs/cornerstone/lib/python2.7/site-packages/pandas/io/parsers.pyc\u001b[0m in \u001b[0;36m__init__\u001b[0;34m(self, src, **kwds)\u001b[0m\n\u001b[1;32m   1693\u001b[0m         \u001b[0mkwds\u001b[0m\u001b[0;34m[\u001b[0m\u001b[0;34m'allow_leading_cols'\u001b[0m\u001b[0;34m]\u001b[0m \u001b[0;34m=\u001b[0m \u001b[0mself\u001b[0m\u001b[0;34m.\u001b[0m\u001b[0mindex_col\u001b[0m \u001b[0;32mis\u001b[0m \u001b[0;32mnot\u001b[0m \u001b[0mFalse\u001b[0m\u001b[0;34m\u001b[0m\u001b[0m\n\u001b[1;32m   1694\u001b[0m \u001b[0;34m\u001b[0m\u001b[0m\n\u001b[0;32m-> 1695\u001b[0;31m         \u001b[0mself\u001b[0m\u001b[0;34m.\u001b[0m\u001b[0m_reader\u001b[0m \u001b[0;34m=\u001b[0m \u001b[0mparsers\u001b[0m\u001b[0;34m.\u001b[0m\u001b[0mTextReader\u001b[0m\u001b[0;34m(\u001b[0m\u001b[0msrc\u001b[0m\u001b[0;34m,\u001b[0m \u001b[0;34m**\u001b[0m\u001b[0mkwds\u001b[0m\u001b[0;34m)\u001b[0m\u001b[0;34m\u001b[0m\u001b[0m\n\u001b[0m\u001b[1;32m   1696\u001b[0m \u001b[0;34m\u001b[0m\u001b[0m\n\u001b[1;32m   1697\u001b[0m         \u001b[0;31m# XXX\u001b[0m\u001b[0;34m\u001b[0m\u001b[0;34m\u001b[0m\u001b[0m\n",
      "\u001b[0;32mpandas/_libs/parsers.pyx\u001b[0m in \u001b[0;36mpandas._libs.parsers.TextReader.__cinit__\u001b[0;34m()\u001b[0m\n",
      "\u001b[0;32mpandas/_libs/parsers.pyx\u001b[0m in \u001b[0;36mpandas._libs.parsers.TextReader._setup_parser_source\u001b[0;34m()\u001b[0m\n",
      "\u001b[0;32m/Users/B/anaconda/envs/cornerstone/lib/python2.7/gzip.pyc\u001b[0m in \u001b[0;36m__init__\u001b[0;34m(self, filename, mode, compresslevel, fileobj, mtime)\u001b[0m\n\u001b[1;32m     92\u001b[0m             \u001b[0mmode\u001b[0m \u001b[0;34m+=\u001b[0m \u001b[0;34m'b'\u001b[0m\u001b[0;34m\u001b[0m\u001b[0m\n\u001b[1;32m     93\u001b[0m         \u001b[0;32mif\u001b[0m \u001b[0mfileobj\u001b[0m \u001b[0;32mis\u001b[0m \u001b[0mNone\u001b[0m\u001b[0;34m:\u001b[0m\u001b[0;34m\u001b[0m\u001b[0m\n\u001b[0;32m---> 94\u001b[0;31m             \u001b[0mfileobj\u001b[0m \u001b[0;34m=\u001b[0m \u001b[0mself\u001b[0m\u001b[0;34m.\u001b[0m\u001b[0mmyfileobj\u001b[0m \u001b[0;34m=\u001b[0m \u001b[0m__builtin__\u001b[0m\u001b[0;34m.\u001b[0m\u001b[0mopen\u001b[0m\u001b[0;34m(\u001b[0m\u001b[0mfilename\u001b[0m\u001b[0;34m,\u001b[0m \u001b[0mmode\u001b[0m \u001b[0;32mor\u001b[0m \u001b[0;34m'rb'\u001b[0m\u001b[0;34m)\u001b[0m\u001b[0;34m\u001b[0m\u001b[0m\n\u001b[0m\u001b[1;32m     95\u001b[0m         \u001b[0;32mif\u001b[0m \u001b[0mfilename\u001b[0m \u001b[0;32mis\u001b[0m \u001b[0mNone\u001b[0m\u001b[0;34m:\u001b[0m\u001b[0;34m\u001b[0m\u001b[0m\n\u001b[1;32m     96\u001b[0m             \u001b[0;31m# Issue #13781: os.fdopen() creates a fileobj with a bogus name\u001b[0m\u001b[0;34m\u001b[0m\u001b[0;34m\u001b[0m\u001b[0m\n",
      "\u001b[0;31mIOError\u001b[0m: [Errno 2] No such file or directory: '../data/boston/processed/vz_predict_dataset.csv.gz'"
     ]
    }
   ],
   "source": [
    "# Read in data\n",
    "data = pd.read_csv('../data/boston/processed/vz_predict_dataset.csv.gz', \n",
    "                   compression='gzip', dtype={'segment_id':'str'})\n",
    "data.sort_values(['segment_id', 'year','week'], inplace=True)"
   ]
  },
  {
   "cell_type": "code",
   "execution_count": null,
   "metadata": {
    "collapsed": true,
    "deletable": true,
    "editable": true
   },
   "outputs": [],
   "source": [
    "# get segments with non-zero crashes\n",
    "data_nonzero = data.set_index('segment_id').loc[data.groupby('segment_id').crash.sum()>0]\n",
    "data_nonzero.reset_index(inplace=True)"
   ]
  },
  {
   "cell_type": "code",
   "execution_count": null,
   "metadata": {
    "collapsed": true,
    "deletable": true,
    "editable": true
   },
   "outputs": [],
   "source": [
    "# scaler\n",
    "scaler = MinMaxScaler(feature_range=(0, 1))\n",
    "data_nonzero[SEG_CHARS] = scaler.fit_transform(data_nonzero[SEG_CHARS])\n",
    "data_nonzero['target'] = (data['crash']>0).astype(int)\n",
    "data_model = data_nonzero[['target']+SEG_CHARS].values"
   ]
  },
  {
   "cell_type": "code",
   "execution_count": 55,
   "metadata": {
    "collapsed": true,
    "deletable": true,
    "editable": true
   },
   "outputs": [],
   "source": [
    "pct_train = .7\n",
    "#train_segments = data_nonzero.segment_id.unique()[:int(len(data_nonzero.segment_id.unique())*pct_train)]\n",
    "segment_ids = data_nonzero.segment_id.unique()\n",
    "inds = np.arange(0.0,len(segment_ids)) / len(segment_ids) < pct_train\n",
    "train_ids = segment_ids[inds]\n",
    "test_ids = segment_ids[~inds]"
   ]
  },
  {
   "cell_type": "code",
   "execution_count": 68,
   "metadata": {
    "collapsed": false,
    "deletable": true,
    "editable": true
   },
   "outputs": [
    {
     "name": "stdout",
     "output_type": "stream",
     "text": [
      "(302720, 129664)\n"
     ]
    }
   ],
   "source": [
    "# split into train and test sets\n",
    "train_size = int(len(data_model) * 0.67)\n",
    "test_size = len(data_model) - train_size\n",
    "#train, test = data_model[0:train_size,:], data_model[train_size:len(data_model),:]\n",
    "train = data_nonzero[data_nonzero.segment_id.isin(train_ids)][['target']+SEG_CHARS].values\n",
    "test = data_nonzero[data_nonzero.segment_id.isin(test_ids)][['target']+SEG_CHARS].values\n",
    "print(len(train), len(test))"
   ]
  },
  {
   "cell_type": "code",
   "execution_count": 69,
   "metadata": {
    "collapsed": true,
    "deletable": true,
    "editable": true
   },
   "outputs": [],
   "source": [
    "def create_dataset(dataset, look_back=1):\n",
    "    dataX, dataY = [], []\n",
    "    for i in range(len(dataset)-look_back-1):\n",
    "        a = dataset[i:(i+look_back), 1:]\n",
    "        dataX.append(a)\n",
    "        dataY.append(dataset[i + look_back, 0])\n",
    "    return np.array(dataX), np.array(dataY)"
   ]
  },
  {
   "cell_type": "code",
   "execution_count": 70,
   "metadata": {
    "collapsed": true,
    "deletable": true,
    "editable": true
   },
   "outputs": [],
   "source": [
    "look_back = 12\n",
    "trainX, trainY = create_dataset(train, look_back=look_back)\n",
    "testX, testY = create_dataset(test, look_back=look_back)"
   ]
  },
  {
   "cell_type": "code",
   "execution_count": 71,
   "metadata": {
    "collapsed": true,
    "deletable": true,
    "editable": true
   },
   "outputs": [],
   "source": [
    "# class_weight\n",
    "neg, pos = data_nonzero.target.value_counts(normalize=True)\n",
    "class_weight = {0: 1/neg, 1: 1/pos}"
   ]
  },
  {
   "cell_type": "code",
   "execution_count": 72,
   "metadata": {
    "collapsed": true,
    "deletable": true,
    "editable": true
   },
   "outputs": [],
   "source": [
    "# reshape input to be [samples, time steps, features]\n",
    "trainX = np.reshape(trainX, (trainX.shape[0], look_back, trainX.shape[2]))\n",
    "testX = np.reshape(testX, (testX.shape[0], look_back, testX.shape[2]))"
   ]
  },
  {
   "cell_type": "code",
   "execution_count": 73,
   "metadata": {
    "collapsed": false,
    "deletable": true,
    "editable": true,
    "scrolled": false
   },
   "outputs": [
    {
     "name": "stdout",
     "output_type": "stream",
     "text": [
      "Train on 302707 samples, validate on 129651 samples\n",
      "Epoch 1/50\n",
      "16s - loss: 1.3408 - acc: 0.8211 - val_loss: 0.6671 - val_acc: 0.6884\n",
      "Epoch 2/50\n",
      "15s - loss: 1.3368 - acc: 0.7770 - val_loss: 0.6610 - val_acc: 0.8151\n",
      "Epoch 3/50\n",
      "16s - loss: 1.3352 - acc: 0.7623 - val_loss: 0.6471 - val_acc: 0.9624\n",
      "Epoch 4/50\n",
      "15s - loss: 1.3335 - acc: 0.9260 - val_loss: 0.6621 - val_acc: 0.9124\n",
      "Epoch 5/50\n",
      "15s - loss: 1.3334 - acc: 0.8264 - val_loss: 0.6625 - val_acc: 0.9523\n",
      "Epoch 6/50\n",
      "15s - loss: 1.3335 - acc: 0.9180 - val_loss: 0.6727 - val_acc: 0.8858\n",
      "Epoch 7/50\n",
      "16s - loss: 1.3329 - acc: 0.9175 - val_loss: 0.6495 - val_acc: 0.9865\n",
      "Epoch 8/50\n",
      "15s - loss: 1.3320 - acc: 0.9465 - val_loss: 0.6702 - val_acc: 0.9503\n",
      "Epoch 9/50\n",
      "15s - loss: 1.3319 - acc: 0.9267 - val_loss: 0.6568 - val_acc: 0.9845\n",
      "Epoch 10/50\n",
      "15s - loss: 1.3314 - acc: 0.8380 - val_loss: 0.6414 - val_acc: 0.9941\n",
      "Epoch 11/50\n",
      "15s - loss: 1.3310 - acc: 0.9735 - val_loss: 0.6568 - val_acc: 0.9875\n",
      "Epoch 12/50\n",
      "15s - loss: 1.3312 - acc: 0.9658 - val_loss: 0.6663 - val_acc: 0.9738\n",
      "Epoch 13/50\n",
      "15s - loss: 1.3310 - acc: 0.9492 - val_loss: 0.6616 - val_acc: 0.9826\n",
      "Epoch 14/50\n",
      "15s - loss: 1.3309 - acc: 0.9430 - val_loss: 0.6460 - val_acc: 0.9941\n",
      "Epoch 15/50\n",
      "16s - loss: 1.3311 - acc: 0.9907 - val_loss: 0.6511 - val_acc: 0.9940\n",
      "Epoch 16/50\n",
      "16s - loss: 1.3305 - acc: 0.9824 - val_loss: 0.6561 - val_acc: 0.9874\n",
      "Epoch 17/50\n",
      "15s - loss: 1.3297 - acc: 0.8941 - val_loss: 0.6537 - val_acc: 0.9857\n",
      "Epoch 18/50\n",
      "16s - loss: 1.3296 - acc: 0.8859 - val_loss: 0.6353 - val_acc: 0.9895\n",
      "Epoch 19/50\n",
      "16s - loss: 1.3287 - acc: 0.9598 - val_loss: 0.6653 - val_acc: 0.9504\n",
      "Epoch 20/50\n",
      "15s - loss: 1.3288 - acc: 0.8536 - val_loss: 0.6581 - val_acc: 0.9660\n",
      "Epoch 21/50\n",
      "16s - loss: 1.3280 - acc: 0.9428 - val_loss: 0.6727 - val_acc: 0.8000\n",
      "Epoch 22/50\n",
      "16s - loss: 1.3279 - acc: 0.9299 - val_loss: 0.6633 - val_acc: 0.9036\n",
      "Epoch 23/50\n",
      "15s - loss: 1.3269 - acc: 0.9287 - val_loss: 0.6327 - val_acc: 0.9855\n",
      "Epoch 24/50\n",
      "15s - loss: 1.3267 - acc: 0.9613 - val_loss: 0.6606 - val_acc: 0.8273\n",
      "Epoch 25/50\n",
      "16s - loss: 1.3261 - acc: 0.9363 - val_loss: 0.6715 - val_acc: 0.7648\n",
      "Epoch 26/50\n",
      "15s - loss: 1.3257 - acc: 0.7071 - val_loss: 0.6507 - val_acc: 0.9358\n",
      "Epoch 27/50\n",
      "16s - loss: 1.3258 - acc: 0.9018 - val_loss: 0.6603 - val_acc: 0.8571\n",
      "Epoch 28/50\n",
      "15s - loss: 1.3244 - acc: 0.8614 - val_loss: 0.6364 - val_acc: 0.9634\n",
      "Epoch 29/50\n",
      "15s - loss: 1.3245 - acc: 0.9314 - val_loss: 0.6712 - val_acc: 0.5857\n",
      "Epoch 30/50\n",
      "15s - loss: 1.3238 - acc: 0.8375 - val_loss: 0.6478 - val_acc: 0.9114\n",
      "Epoch 31/50\n",
      "15s - loss: 1.3235 - acc: 0.9415 - val_loss: 0.6663 - val_acc: 0.8209\n",
      "Epoch 32/50\n",
      "15s - loss: 1.3233 - acc: 0.7382 - val_loss: 0.6487 - val_acc: 0.8839\n",
      "Epoch 33/50\n",
      "15s - loss: 1.3222 - acc: 0.9180 - val_loss: 0.6730 - val_acc: 0.7579\n",
      "Epoch 34/50\n",
      "15s - loss: 1.3222 - acc: 0.8417 - val_loss: 0.6661 - val_acc: 0.8081\n",
      "Epoch 35/50\n",
      "15s - loss: 1.3211 - acc: 0.8688 - val_loss: 0.6512 - val_acc: 0.8593\n",
      "Epoch 36/50\n",
      "15s - loss: 1.3237 - acc: 0.7345 - val_loss: 0.6852 - val_acc: 0.6546\n",
      "Epoch 37/50\n",
      "15s - loss: 1.3227 - acc: 0.7694 - val_loss: 0.6695 - val_acc: 0.6602\n",
      "Epoch 38/50\n",
      "15s - loss: 1.3243 - acc: 0.7322 - val_loss: 0.6693 - val_acc: 0.6529\n",
      "Epoch 39/50\n",
      "15s - loss: 1.3218 - acc: 0.7562 - val_loss: 0.6621 - val_acc: 0.8233\n",
      "Epoch 40/50\n",
      "15s - loss: 1.3204 - acc: 0.8172 - val_loss: 0.6412 - val_acc: 0.8766\n",
      "Epoch 41/50\n",
      "15s - loss: 1.3217 - acc: 0.8929 - val_loss: 0.6770 - val_acc: 0.6017\n",
      "Epoch 42/50\n",
      "15s - loss: 1.3194 - acc: 0.7467 - val_loss: 0.6663 - val_acc: 0.5959\n",
      "Epoch 43/50\n",
      "15s - loss: 1.3186 - acc: 0.6100 - val_loss: 0.6407 - val_acc: 0.8850\n",
      "Epoch 44/50\n",
      "15s - loss: 1.3207 - acc: 0.8828 - val_loss: 0.6669 - val_acc: 0.7057\n",
      "Epoch 45/50\n",
      "15s - loss: 1.3197 - acc: 0.7125 - val_loss: 0.6631 - val_acc: 0.8140\n",
      "Epoch 46/50\n",
      "15s - loss: 1.3192 - acc: 0.8293 - val_loss: 0.6537 - val_acc: 0.7849\n",
      "Epoch 47/50\n",
      "15s - loss: 1.3212 - acc: 0.7416 - val_loss: 0.6658 - val_acc: 0.7503\n",
      "Epoch 48/50\n",
      "15s - loss: 1.3193 - acc: 0.6476 - val_loss: 0.6444 - val_acc: 0.8575\n",
      "Epoch 49/50\n",
      "15s - loss: 1.3184 - acc: 0.8114 - val_loss: 0.6634 - val_acc: 0.6398\n",
      "Epoch 50/50\n",
      "15s - loss: 1.3186 - acc: 0.7363 - val_loss: 0.6395 - val_acc: 0.7829\n"
     ]
    },
    {
     "data": {
      "text/plain": [
       "<keras.callbacks.History at 0x12e6c6c10>"
      ]
     },
     "execution_count": 73,
     "metadata": {},
     "output_type": "execute_result"
    }
   ],
   "source": [
    "# create and fit the LSTM network\n",
    "model = Sequential()\n",
    "model.add(LSTM(4, input_shape=trainX.shape[1:]))\n",
    "model.add(Dense(1, activation='sigmoid'))\n",
    "model.compile(loss='binary_crossentropy', optimizer='adam', metrics=['accuracy'])\n",
    "model.fit(trainX, trainY,\n",
    "          validation_data=(testX, testY),\n",
    "          epochs=50, batch_size=1000, \n",
    "          class_weight = class_weight,\n",
    "          verbose=2)"
   ]
  },
  {
   "cell_type": "code",
   "execution_count": 74,
   "metadata": {
    "collapsed": true,
    "deletable": true,
    "editable": true
   },
   "outputs": [],
   "source": [
    "# make predictions\n",
    "#trainPredict = model.predict(trainX)\n",
    "testPredict = model.predict(testX)"
   ]
  },
  {
   "cell_type": "code",
   "execution_count": 75,
   "metadata": {
    "collapsed": true,
    "deletable": true,
    "editable": true
   },
   "outputs": [],
   "source": [
    "from sklearn.metrics import roc_auc_score"
   ]
  },
  {
   "cell_type": "code",
   "execution_count": 76,
   "metadata": {
    "collapsed": false,
    "deletable": true,
    "editable": true
   },
   "outputs": [
    {
     "data": {
      "text/plain": [
       "0.46776660379990886"
      ]
     },
     "execution_count": 76,
     "metadata": {},
     "output_type": "execute_result"
    }
   ],
   "source": [
    "roc_auc_score(testY, testPredict)"
   ]
  },
  {
   "cell_type": "code",
   "execution_count": 23,
   "metadata": {
    "collapsed": true,
    "deletable": true,
    "editable": true
   },
   "outputs": [],
   "source": [
    "a = testY.reshape(-1, 1) - testPredict"
   ]
  },
  {
   "cell_type": "code",
   "execution_count": 24,
   "metadata": {
    "collapsed": false,
    "deletable": true,
    "editable": true
   },
   "outputs": [
    {
     "data": {
      "text/plain": [
       "-65813.131162494421"
      ]
     },
     "execution_count": 24,
     "metadata": {},
     "output_type": "execute_result"
    }
   ],
   "source": [
    "np.sum(testY - np.reshape(testPredict, (a.shape[0],)))"
   ]
  },
  {
   "cell_type": "code",
   "execution_count": null,
   "metadata": {
    "collapsed": true,
    "deletable": true,
    "editable": true
   },
   "outputs": [],
   "source": [
    "np.sum(testY - np.reshape(testPredict, (a.shape[0],)))"
   ]
  },
  {
   "cell_type": "code",
   "execution_count": 28,
   "metadata": {
    "collapsed": false,
    "deletable": true,
    "editable": true
   },
   "outputs": [
    {
     "data": {
      "text/plain": [
       "0.474611    7404\n",
       "0.473700    6108\n",
       "0.472609    4797\n",
       "0.463795    2808\n",
       "0.463918    1989\n",
       "0.461656    1521\n",
       "0.463456    1287\n",
       "0.484162    1170\n",
       "0.469727    1053\n",
       "0.471350    1053\n",
       "0.482619     936\n",
       "0.470984     819\n",
       "0.480933     702\n",
       "0.471984     586\n",
       "0.469841     585\n",
       "0.468830     585\n",
       "0.462914     585\n",
       "0.470529     585\n",
       "0.446409     479\n",
       "0.456383     468\n",
       "0.471074     468\n",
       "0.455106     468\n",
       "0.470379     468\n",
       "0.468929     468\n",
       "0.443561     468\n",
       "0.436578     468\n",
       "0.461401     468\n",
       "0.449788     468\n",
       "0.454803     468\n",
       "0.468985     362\n",
       "            ... \n",
       "0.468935       1\n",
       "0.468935       1\n",
       "0.468934       1\n",
       "0.468932       1\n",
       "0.468931       1\n",
       "0.468931       1\n",
       "0.468930       1\n",
       "0.468950       1\n",
       "0.468951       1\n",
       "0.468979       1\n",
       "0.468966       1\n",
       "0.468977       1\n",
       "0.468974       1\n",
       "0.468972       1\n",
       "0.468971       1\n",
       "0.468969       1\n",
       "0.468969       1\n",
       "0.468969       1\n",
       "0.468967       1\n",
       "0.468963       1\n",
       "0.468951       1\n",
       "0.468963       1\n",
       "0.468963       1\n",
       "0.468962       1\n",
       "0.468957       1\n",
       "0.468957       1\n",
       "0.468955       1\n",
       "0.468955       1\n",
       "0.468952       1\n",
       "0.473575       1\n",
       "dtype: int64"
      ]
     },
     "execution_count": 28,
     "metadata": {},
     "output_type": "execute_result"
    }
   ],
   "source": [
    "pd.Series(testPredict.flatten()).value_counts()"
   ]
  },
  {
   "cell_type": "code",
   "execution_count": 233,
   "metadata": {
    "collapsed": false,
    "deletable": true,
    "editable": true
   },
   "outputs": [
    {
     "data": {
      "text/plain": [
       "0"
      ]
     },
     "execution_count": 233,
     "metadata": {},
     "output_type": "execute_result"
    }
   ],
   "source": []
  },
  {
   "cell_type": "code",
   "execution_count": 174,
   "metadata": {
    "collapsed": false,
    "deletable": true,
    "editable": true
   },
   "outputs": [
    {
     "ename": "ValueError",
     "evalue": "non-broadcastable output operand with shape (70236,1) doesn't match the broadcast shape (70236,6)",
     "output_type": "error",
     "traceback": [
      "\u001b[0;31m---------------------------------------------------------------------------\u001b[0m",
      "\u001b[0;31mValueError\u001b[0m                                Traceback (most recent call last)",
      "\u001b[0;32m<ipython-input-174-f86e1651271b>\u001b[0m in \u001b[0;36m<module>\u001b[0;34m()\u001b[0m\n\u001b[1;32m      3\u001b[0m \u001b[0mtestPredict\u001b[0m \u001b[0;34m=\u001b[0m \u001b[0mmodel\u001b[0m\u001b[0;34m.\u001b[0m\u001b[0mpredict\u001b[0m\u001b[0;34m(\u001b[0m\u001b[0mtestX\u001b[0m\u001b[0;34m)\u001b[0m\u001b[0;34m\u001b[0m\u001b[0m\n\u001b[1;32m      4\u001b[0m \u001b[0;31m# invert predictions\u001b[0m\u001b[0;34m\u001b[0m\u001b[0;34m\u001b[0m\u001b[0m\n\u001b[0;32m----> 5\u001b[0;31m \u001b[0mtrainPredict\u001b[0m \u001b[0;34m=\u001b[0m \u001b[0mscaler\u001b[0m\u001b[0;34m.\u001b[0m\u001b[0minverse_transform\u001b[0m\u001b[0;34m(\u001b[0m\u001b[0mtrainPredict\u001b[0m\u001b[0;34m)\u001b[0m\u001b[0;34m\u001b[0m\u001b[0m\n\u001b[0m\u001b[1;32m      6\u001b[0m \u001b[0mtrainY\u001b[0m \u001b[0;34m=\u001b[0m \u001b[0mscaler\u001b[0m\u001b[0;34m.\u001b[0m\u001b[0minverse_transform\u001b[0m\u001b[0;34m(\u001b[0m\u001b[0;34m[\u001b[0m\u001b[0mtrainY\u001b[0m\u001b[0;34m]\u001b[0m\u001b[0;34m)\u001b[0m\u001b[0;34m\u001b[0m\u001b[0m\n\u001b[1;32m      7\u001b[0m \u001b[0mtestPredict\u001b[0m \u001b[0;34m=\u001b[0m \u001b[0mscaler\u001b[0m\u001b[0;34m.\u001b[0m\u001b[0minverse_transform\u001b[0m\u001b[0;34m(\u001b[0m\u001b[0mtestPredict\u001b[0m\u001b[0;34m)\u001b[0m\u001b[0;34m\u001b[0m\u001b[0m\n",
      "\u001b[0;32m/Users/B/anaconda/envs/cornerstone/lib/python2.7/site-packages/sklearn/preprocessing/data.pyc\u001b[0m in \u001b[0;36minverse_transform\u001b[0;34m(self, X)\u001b[0m\n\u001b[1;32m    374\u001b[0m             \u001b[0mwarnings\u001b[0m\u001b[0;34m.\u001b[0m\u001b[0mwarn\u001b[0m\u001b[0;34m(\u001b[0m\u001b[0mDEPRECATION_MSG_1D\u001b[0m\u001b[0;34m,\u001b[0m \u001b[0mDeprecationWarning\u001b[0m\u001b[0;34m)\u001b[0m\u001b[0;34m\u001b[0m\u001b[0m\n\u001b[1;32m    375\u001b[0m \u001b[0;34m\u001b[0m\u001b[0m\n\u001b[0;32m--> 376\u001b[0;31m         \u001b[0mX\u001b[0m \u001b[0;34m-=\u001b[0m \u001b[0mself\u001b[0m\u001b[0;34m.\u001b[0m\u001b[0mmin_\u001b[0m\u001b[0;34m\u001b[0m\u001b[0m\n\u001b[0m\u001b[1;32m    377\u001b[0m         \u001b[0mX\u001b[0m \u001b[0;34m/=\u001b[0m \u001b[0mself\u001b[0m\u001b[0;34m.\u001b[0m\u001b[0mscale_\u001b[0m\u001b[0;34m\u001b[0m\u001b[0m\n\u001b[1;32m    378\u001b[0m         \u001b[0;32mreturn\u001b[0m \u001b[0mX\u001b[0m\u001b[0;34m\u001b[0m\u001b[0m\n",
      "\u001b[0;31mValueError\u001b[0m: non-broadcastable output operand with shape (70236,1) doesn't match the broadcast shape (70236,6)"
     ]
    }
   ],
   "source": [
    "# make predictions\n",
    "trainPredict = model.predict(trainX)\n",
    "testPredict = model.predict(testX)\n",
    "# invert predictions\n",
    "trainPredict = scaler.inverse_transform(trainPredict)\n",
    "trainY = scaler.inverse_transform([trainY])\n",
    "testPredict = scaler.inverse_transform(testPredict)\n",
    "testY = scaler.inverse_transform([testY])\n",
    "# calculate root mean squared error\n",
    "trainScore = math.sqrt(mean_squared_error(trainY[0], trainPredict[:,0]))\n",
    "print('Train Score: %.2f RMSE' % (trainScore))\n",
    "testScore = math.sqrt(mean_squared_error(testY[0], testPredict[:,0]))\n",
    "print('Test Score: %.2f RMSE' % (testScore))"
   ]
  },
  {
   "cell_type": "code",
   "execution_count": 66,
   "metadata": {
    "collapsed": true,
    "deletable": true,
    "editable": true
   },
   "outputs": [],
   "source": [
    "#Parameters for model\n",
    "#Model parameters\n",
    "params = dict()\n",
    "\n",
    "#cv parameters\n",
    "cvp = dict()\n",
    "cvp['pmetric'] = 'roc_auc'\n",
    "cvp['iter'] = 5 #number of iterations\n",
    "cvp['folds'] = 5 #folds for cv (default)\n",
    "\n",
    "#LR parameters\n",
    "mp = dict()\n",
    "mp['LogisticRegression'] = dict()\n",
    "mp['LogisticRegression']['penalty'] = ['l1','l2']\n",
    "mp['LogisticRegression']['C'] = ss.beta(a=5,b=2) #beta distribution for selecting reg strength\n",
    "\n",
    "#RF model parameters\n",
    "mp['RandomForestClassifier'] = dict()\n",
    "mp['RandomForestClassifier']['n_estimators'] = [2**8] #number of trees in the forest\n",
    "mp['RandomForestClassifier']['max_features'] = ss.beta(a=5,b=2) #number of features at split\n",
    "mp['RandomForestClassifier']['max_leaf_nodes'] = ss.nbinom(n=2,p=0.001,loc=100) #max number of leaves to create"
   ]
  },
  {
   "cell_type": "code",
   "execution_count": 67,
   "metadata": {
    "collapsed": true,
    "deletable": true,
    "editable": true
   },
   "outputs": [],
   "source": [
    "# Features\n",
    "features = [u'pre_week', u'pre_month', u'pre_quarter', 'avg_week', u'AADT', u'SPEEDLIMIT',\n",
    "       u'Struct_Cnd', u'Surface_Tp', u'F_F_Class']"
   ]
  },
  {
   "cell_type": "code",
   "execution_count": 68,
   "metadata": {
    "collapsed": true,
    "deletable": true,
    "editable": true
   },
   "outputs": [],
   "source": [
    "#Initialize tuner\n",
    "tune = Tuner(df)"
   ]
  },
  {
   "cell_type": "code",
   "execution_count": 69,
   "metadata": {
    "collapsed": false,
    "deletable": true,
    "editable": true
   },
   "outputs": [
    {
     "name": "stdout",
     "output_type": "stream",
     "text": [
      "Fitting 5 folds for each of 5 candidates, totalling 25 fits\n"
     ]
    },
    {
     "name": "stderr",
     "output_type": "stream",
     "text": [
      "[Parallel(n_jobs=1)]: Done  25 out of  25 | elapsed:   27.3s finished\n"
     ]
    }
   ],
   "source": [
    "#Base RF model\n",
    "tune.tune('RF_base', 'RandomForestClassifier', features, cvp, mp['RandomForestClassifier'])"
   ]
  },
  {
   "cell_type": "code",
   "execution_count": 70,
   "metadata": {
    "collapsed": false,
    "deletable": true,
    "editable": true
   },
   "outputs": [
    {
     "name": "stdout",
     "output_type": "stream",
     "text": [
      "Fitting 5 folds for each of 5 candidates, totalling 25 fits\n"
     ]
    },
    {
     "name": "stderr",
     "output_type": "stream",
     "text": [
      "[Parallel(n_jobs=1)]: Done  25 out of  25 | elapsed:    0.3s finished\n"
     ]
    }
   ],
   "source": [
    "#Base LR model\n",
    "tune.tune('LR_base', 'LogisticRegression', features, cvp, mp['LogisticRegression'])"
   ]
  },
  {
   "cell_type": "code",
   "execution_count": 71,
   "metadata": {
    "collapsed": false,
    "deletable": true,
    "editable": true
   },
   "outputs": [
    {
     "data": {
      "text/html": [
       "<div>\n",
       "<table border=\"1\" class=\"dataframe\">\n",
       "  <thead>\n",
       "    <tr style=\"text-align: right;\">\n",
       "      <th></th>\n",
       "      <th>mean_test_score</th>\n",
       "      <th>mean_train_score</th>\n",
       "      <th>params</th>\n",
       "      <th>name</th>\n",
       "      <th>m_name</th>\n",
       "    </tr>\n",
       "  </thead>\n",
       "  <tbody>\n",
       "    <tr>\n",
       "      <th>0</th>\n",
       "      <td>0.760451</td>\n",
       "      <td>0.995825</td>\n",
       "      <td>{u'max_features': 0.667813283122, u'max_leaf_n...</td>\n",
       "      <td>RF_base</td>\n",
       "      <td>RandomForestClassifier</td>\n",
       "    </tr>\n",
       "    <tr>\n",
       "      <th>1</th>\n",
       "      <td>0.760839</td>\n",
       "      <td>0.995798</td>\n",
       "      <td>{u'max_features': 0.736051950141, u'max_leaf_n...</td>\n",
       "      <td>RF_base</td>\n",
       "      <td>RandomForestClassifier</td>\n",
       "    </tr>\n",
       "    <tr>\n",
       "      <th>2</th>\n",
       "      <td>0.759570</td>\n",
       "      <td>0.995734</td>\n",
       "      <td>{u'max_features': 0.754430216885, u'max_leaf_n...</td>\n",
       "      <td>RF_base</td>\n",
       "      <td>RandomForestClassifier</td>\n",
       "    </tr>\n",
       "    <tr>\n",
       "      <th>3</th>\n",
       "      <td>0.721338</td>\n",
       "      <td>0.995814</td>\n",
       "      <td>{u'max_features': 0.880590604518, u'max_leaf_n...</td>\n",
       "      <td>RF_base</td>\n",
       "      <td>RandomForestClassifier</td>\n",
       "    </tr>\n",
       "    <tr>\n",
       "      <th>4</th>\n",
       "      <td>0.733999</td>\n",
       "      <td>0.995845</td>\n",
       "      <td>{u'max_features': 0.867849733882, u'max_leaf_n...</td>\n",
       "      <td>RF_base</td>\n",
       "      <td>RandomForestClassifier</td>\n",
       "    </tr>\n",
       "    <tr>\n",
       "      <th>0</th>\n",
       "      <td>0.516315</td>\n",
       "      <td>0.559762</td>\n",
       "      <td>{u'penalty': u'l2', u'C': 0.868912981911}</td>\n",
       "      <td>LR_base</td>\n",
       "      <td>LogisticRegression</td>\n",
       "    </tr>\n",
       "    <tr>\n",
       "      <th>1</th>\n",
       "      <td>0.516315</td>\n",
       "      <td>0.559733</td>\n",
       "      <td>{u'penalty': u'l2', u'C': 0.821272193817}</td>\n",
       "      <td>LR_base</td>\n",
       "      <td>LogisticRegression</td>\n",
       "    </tr>\n",
       "    <tr>\n",
       "      <th>2</th>\n",
       "      <td>0.516440</td>\n",
       "      <td>0.559701</td>\n",
       "      <td>{u'penalty': u'l2', u'C': 0.686060522494}</td>\n",
       "      <td>LR_base</td>\n",
       "      <td>LogisticRegression</td>\n",
       "    </tr>\n",
       "    <tr>\n",
       "      <th>3</th>\n",
       "      <td>0.516315</td>\n",
       "      <td>0.559762</td>\n",
       "      <td>{u'penalty': u'l2', u'C': 0.88118343688}</td>\n",
       "      <td>LR_base</td>\n",
       "      <td>LogisticRegression</td>\n",
       "    </tr>\n",
       "    <tr>\n",
       "      <th>4</th>\n",
       "      <td>0.516440</td>\n",
       "      <td>0.559604</td>\n",
       "      <td>{u'penalty': u'l2', u'C': 0.607598491451}</td>\n",
       "      <td>LR_base</td>\n",
       "      <td>LogisticRegression</td>\n",
       "    </tr>\n",
       "  </tbody>\n",
       "</table>\n",
       "</div>"
      ],
      "text/plain": [
       "   mean_test_score  mean_train_score  \\\n",
       "0         0.760451          0.995825   \n",
       "1         0.760839          0.995798   \n",
       "2         0.759570          0.995734   \n",
       "3         0.721338          0.995814   \n",
       "4         0.733999          0.995845   \n",
       "0         0.516315          0.559762   \n",
       "1         0.516315          0.559733   \n",
       "2         0.516440          0.559701   \n",
       "3         0.516315          0.559762   \n",
       "4         0.516440          0.559604   \n",
       "\n",
       "                                              params     name  \\\n",
       "0  {u'max_features': 0.667813283122, u'max_leaf_n...  RF_base   \n",
       "1  {u'max_features': 0.736051950141, u'max_leaf_n...  RF_base   \n",
       "2  {u'max_features': 0.754430216885, u'max_leaf_n...  RF_base   \n",
       "3  {u'max_features': 0.880590604518, u'max_leaf_n...  RF_base   \n",
       "4  {u'max_features': 0.867849733882, u'max_leaf_n...  RF_base   \n",
       "0          {u'penalty': u'l2', u'C': 0.868912981911}  LR_base   \n",
       "1          {u'penalty': u'l2', u'C': 0.821272193817}  LR_base   \n",
       "2          {u'penalty': u'l2', u'C': 0.686060522494}  LR_base   \n",
       "3           {u'penalty': u'l2', u'C': 0.88118343688}  LR_base   \n",
       "4          {u'penalty': u'l2', u'C': 0.607598491451}  LR_base   \n",
       "\n",
       "                   m_name  \n",
       "0  RandomForestClassifier  \n",
       "1  RandomForestClassifier  \n",
       "2  RandomForestClassifier  \n",
       "3  RandomForestClassifier  \n",
       "4  RandomForestClassifier  \n",
       "0      LogisticRegression  \n",
       "1      LogisticRegression  \n",
       "2      LogisticRegression  \n",
       "3      LogisticRegression  \n",
       "4      LogisticRegression  "
      ]
     },
     "execution_count": 71,
     "metadata": {},
     "output_type": "execute_result"
    }
   ],
   "source": [
    "#Display results\n",
    "tune.grid_results"
   ]
  },
  {
   "cell_type": "code",
   "execution_count": 84,
   "metadata": {
    "collapsed": false,
    "deletable": true,
    "editable": true
   },
   "outputs": [
    {
     "name": "stdout",
     "output_type": "stream",
     "text": [
      "Fitting RF_base model with 9 features\n",
      "f1_score:  0.153846153846\n",
      "brier_score:  0.0316728329575\n"
     ]
    }
   ],
   "source": [
    "# Run test\n",
    "test = Tester(df)\n",
    "test.init_tuned(tune)\n",
    "test.run_tuned('RF_base', cal=False)"
   ]
  },
  {
   "cell_type": "markdown",
   "metadata": {
    "deletable": true,
    "editable": true
   },
   "source": [
    "### Lift chart by \"risk bin\"\n",
    "The classifier problem is difficult because the classes are unbalanced (.05% have crashes at target week).  More useful are the probabilities being produced by the model, which give some idea of risk."
   ]
  },
  {
   "cell_type": "code",
   "execution_count": 85,
   "metadata": {
    "collapsed": true,
    "deletable": true,
    "editable": true
   },
   "outputs": [],
   "source": [
    "def lift_chart(x_col, y_col, data, ax=None):\n",
    "\n",
    "    p = sns.barplot(x=x_col, y=y_col, data=data, \n",
    "                    palette='Reds', ax = None, ci=None)\n",
    "    vals = p.get_yticks()\n",
    "    p.set_yticklabels(['{:3.0f}%'.format(i*100) for i in vals])\n",
    "    xvals = [x.get_text().split(',')[-1].strip(']') for x in p.get_xticklabels()]\n",
    "    xvals = ['{:3.0f}%'.format(float(x)*100) for x in xvals]\n",
    "    p.set_xticklabels(xvals)\n",
    "    p.set_axis_bgcolor('white')\n",
    "    p.set_xlabel('')\n",
    "    p.set_ylabel('')\n",
    "    p.set_title('Predicted probability vs actual percent')\n",
    "    return(p)\n",
    "    \n",
    "def density(data, score, ax=None):\n",
    "    p = sns.kdeplot(risk_df['risk_score'], ax=ax)\n",
    "    p.set_axis_bgcolor('white')\n",
    "    p.legend('')\n",
    "    p.set_xlabel('Predicted probability of crash')\n",
    "    p.set_title('KDE plot predictions')\n",
    "    return(p)"
   ]
  },
  {
   "cell_type": "code",
   "execution_count": 103,
   "metadata": {
    "collapsed": false,
    "deletable": true,
    "editable": true
   },
   "outputs": [
    {
     "name": "stdout",
     "output_type": "stream",
     "text": [
      "count    619.000000\n",
      "mean       0.028900\n",
      "std        0.106733\n",
      "min        0.000000\n",
      "25%        0.000000\n",
      "50%        0.000000\n",
      "75%        0.003906\n",
      "max        0.867188\n",
      "Name: risk_score, dtype: float64\n",
      "categories\n",
      "(-1, 0]          427\n",
      "(0, 0.01]         58\n",
      "(0.01, 0.02]      60\n",
      "(0.02, 0.05]      13\n",
      "(0.05, 0.867]     61\n",
      "Name: crash, dtype: int64\n"
     ]
    }
   ],
   "source": [
    "risk_scores = test.rundict['RF_base']['m_fit'].predict_proba(test.data.test_x[features])[:,1]\n",
    "risk_df = pd.DataFrame({'risk_score':risk_scores, 'crash':test.data.test_y})\n",
    "print risk_df.risk_score.describe()\n",
    "risk_df['categories'] = pd.cut(risk_df['risk_score'], bins=[-1, 0, .01, .02, .05, max(risk_scores)])\n",
    "risk_mean = risk_df.groupby('categories')['crash'].count()\n",
    "print risk_mean"
   ]
  },
  {
   "cell_type": "code",
   "execution_count": 104,
   "metadata": {
    "collapsed": false,
    "deletable": true,
    "editable": true
   },
   "outputs": [
    {
     "data": {
      "text/plain": [
       "<matplotlib.axes._subplots.AxesSubplot at 0x119a60e90>"
      ]
     },
     "execution_count": 104,
     "metadata": {},
     "output_type": "execute_result"
    },
    {
     "data": {
      "image/png": "[encoded data removed]",
      "text/plain": [
       "<matplotlib.figure.Figure at 0x119c0de50>"
      ]
     },
     "metadata": {},
     "output_type": "display_data"
    }
   ],
   "source": [
    "fig, axes = plt.subplots(1, 2)\n",
    "lift_chart('categories', 'crash', risk_df, \n",
    "           ax=axes[1])\n",
    "density(risk_df, 'risk_score', ax=axes[0])"
   ]
  },
  {
   "cell_type": "code",
   "execution_count": 105,
   "metadata": {
    "collapsed": true,
    "deletable": true,
    "editable": true
   },
   "outputs": [],
   "source": [
    "# output predictions\n",
    "# predict on all segments\n",
    "data_model['risk_score'] = test.rundict['RF_base']['m_fit'].predict_proba(data_model[features])[:,1]\n",
    "data_model.to_csv('seg_with_risk_score.csv', index=False)"
   ]
  },
  {
   "cell_type": "markdown",
   "metadata": {
    "deletable": true,
    "editable": true
   },
   "source": [
    "### Check sensitivity to week\n",
    "I predicted an arbitrary week as target here, but I'd like to see whether things change significantly if I change that week.  A good metric to measure that is brier score loss.  It'll be low throughout as the classifier doesn't perform great, but it shouldn't vary a huge amount."
   ]
  },
  {
   "cell_type": "code",
   "execution_count": 106,
   "metadata": {
    "collapsed": false,
    "deletable": true,
    "editable": true
   },
   "outputs": [
    {
     "name": "stdout",
     "output_type": "stream",
     "text": [
      "week  20\n",
      "Train obs: 1360\n",
      "Test obs: 618\n",
      "Fitting RF_base model with 9 features\n",
      "f1_score:  0.1\n",
      "brier_score:  0.0292948065731\n",
      "\n",
      "\n",
      "week  30\n",
      "Train obs: 1374\n",
      "Test obs: 604\n",
      "Fitting RF_base model with 9 features\n",
      "f1_score:  0.0\n",
      "brier_score:  0.0393970488434\n",
      "\n",
      "\n",
      "week  40\n",
      "Train obs: 1396\n",
      "Test obs: 582\n",
      "Fitting RF_base model with 9 features\n",
      "f1_score:  0.0\n",
      "brier_score:  0.0384830758081\n",
      "\n",
      "\n",
      "week  50\n",
      "Train obs: 1410\n",
      "Test obs: 568\n",
      "Fitting RF_base model with 9 features\n",
      "f1_score:  0.0952380952381\n",
      "brier_score:  0.0312575867277\n",
      "\n",
      "\n"
     ]
    }
   ],
   "source": [
    "for w in [20, 30, 40, 50]:\n",
    "    print \"week \", w\n",
    "    crash_lags = format_crash_data(data_nonzero.set_index(['segment_id','week']), 'crash', w)\n",
    "    data_model = crash_lags.merge(data_segs, left_on='segment_id', right_on='segment_id')\n",
    "    df = Indata(data_model, 'target')\n",
    "    # create train/test split\n",
    "    df.tr_te_split(.7)\n",
    "    test = Tester(df)\n",
    "    test.init_tuned(tune)\n",
    "    test.run_tuned('RF_base', cal=False)\n",
    "    print '\\n'"
   ]
  }
 ],
 "metadata": {
  "kernelspec": {
   "display_name": "Python 2",
   "language": "python",
   "name": "python2"
  },
  "language_info": {
   "codemirror_mode": {
    "name": "ipython",
    "version": 2
   },
   "file_extension": ".py",
   "mimetype": "text/x-python",
   "name": "python",
   "nbconvert_exporter": "python",
   "pygments_lexer": "ipython2",
   "version": "2.7.12"
  }
 },
 "nbformat": 4,
 "nbformat_minor": 1
}
