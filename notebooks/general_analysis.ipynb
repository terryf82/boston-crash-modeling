{
 "cells": [
  {
   "cell_type": "code",
   "execution_count": 13,
   "metadata": {},
   "outputs": [],
   "source": [
    "PROCESSED_DATA_FP = '../data/boston/processed/'\n",
    "MAP_FP = PROCESSED_DATA_FP + 'maps/'\n",
    "import sys\n",
    "import json"
   ]
  },
  {
   "cell_type": "code",
   "execution_count": 14,
   "metadata": {},
   "outputs": [
    {
     "name": "stdout",
     "output_type": "stream",
     "text": [
      "/home/jenny/boston-crash-modeling\n",
      "/home/jenny/boston-crash-modeling/notebooks\n"
     ]
    }
   ],
   "source": [
    "import os\n",
    "sys.path.append('../src')\n",
    "BASE_DIR = os.path.dirname(os.getcwd())\n",
    "print(BASE_DIR)\n",
    "\n",
    "print(os.getcwd())\n",
    "from data import util"
   ]
  },
  {
   "cell_type": "code",
   "execution_count": 15,
   "metadata": {},
   "outputs": [
    {
     "name": "stdout",
     "output_type": "stream",
     "text": [
      "12967 crashes found\n",
      "4903 unique crash locations found\n",
      "\n",
      "Highest number of crashes at any one location: [55, 52, 49, 43, 42, 42, 41, 39, 38, 32]\n"
     ]
    }
   ],
   "source": [
    "items = json.load(open(PROCESSED_DATA_FP + 'crash_joined.json'))\n",
    "crash_list, crashes_by_id = util.group_json_by_location(items)\n",
    "print(str(len(crash_list)) + \" crashes found\")\n",
    "\n",
    "\n",
    "# Crashes by id is a dict where the key is the segment id.  It contains the count of crashes at that intersection\n",
    "# Can also contain other information about this location, if called with arg otherfields.  In this case, we're\n",
    "# Looking at time\n",
    "sorted = [value['count'] for key,value in crashes_by_id.items() if key != '']\n",
    "sorted.sort(reverse=True)\n",
    "print(str(len(sorted)) + \" unique crash locations found\\n\")\n",
    "\n",
    "print(\"Highest number of crashes at any one location: \" + str(sorted[0:10]))\n",
    "worst_id = [key for key, value in crashes_by_id.items() if value['count'] == sorted[0]][0]\n"
   ]
  },
  {
   "cell_type": "code",
   "execution_count": 16,
   "metadata": {},
   "outputs": [],
   "source": [
    "def get_int_feat(featname, items, buckets=[]):\n",
    "    results = {}\n",
    "    for id, values in items.items():\n",
    "        value = max([x[featname] for x in values])\n",
    "        \n",
    "        if buckets:\n",
    "            found = False\n",
    "            for bucket in buckets:\n",
    "                if int(value) <= bucket and not found:\n",
    "                    value = bucket\n",
    "                    found = True\n",
    "            if not found:\n",
    "                value = buckets[len(buckets)-1]\n",
    "        if value not in results.keys():\n",
    "            results[value] = {'crash': 0, 'no_crash': 0}\n",
    "        if id in crashes_by_id.keys():\n",
    "            results[value]['crash'] += 1\n",
    "        else:\n",
    "            results[value]['no_crash'] += 1\n",
    " \n",
    "    print(\"\\n\" + featname + \"..............\")\n",
    "    for key, value in results.items():\n",
    "        print(str(key) + ':' + str(float(value['crash'])/(float(value['no_crash'] + value['crash']))) + \" out of \" + str(value['no_crash'] + value['crash']))\n"
   ]
  },
  {
   "cell_type": "code",
   "execution_count": 17,
   "metadata": {},
   "outputs": [
    {
     "name": "stdout",
     "output_type": "stream",
     "text": [
      "7790\n",
      "************************************\n",
      "\n",
      "signal..............\n",
      "0:0.1959924859110833 out of 4791\n",
      "1:0.4851617205735245 out of 2999\n",
      "\n",
      "lanes..............\n",
      "2:0.26707083599234205 out of 6268\n",
      "3:0.5409582689335394 out of 647\n",
      "4:0.5988023952095808 out of 501\n",
      "5:0.6666666666666666 out of 75\n",
      "1:0.04938271604938271 out of 162\n",
      "6:0.6666666666666666 out of 6\n",
      "0:0.061068702290076333 out of 131\n",
      "\n",
      "width..............\n",
      "19:0.3655813953488372 out of 2150\n",
      "29:0.5483091787439613 out of 2070\n",
      "14:0.14216944801026957 out of 3116\n",
      "9:0.06607929515418502 out of 454\n",
      "\n",
      "oneway..............\n",
      "0:0.22323049001814882 out of 2755\n",
      "1:0.3533267130089374 out of 5035\n",
      "\n",
      "hwy_type..............\n",
      "0:0.11414326948307531 out of 3811\n",
      "1:0.5288888888888889 out of 1125\n",
      "2:0.6473429951690821 out of 207\n",
      "3:0.5080269290523045 out of 1931\n",
      "6:0.3560606060606061 out of 132\n",
      "5:0.23931623931623933 out of 117\n",
      "8:0.4305555555555556 out of 144\n",
      "11:0.2358490566037736 out of 106\n",
      "9:0.4 out of 75\n",
      "12:0.39655172413793105 out of 58\n",
      "4:0.2727272727272727 out of 22\n",
      "7:0.35135135135135137 out of 37\n",
      "17:0.6666666666666666 out of 3\n",
      "10:0.75 out of 4\n",
      "20:1.0 out of 2\n",
      "13:0.5 out of 4\n",
      "14:0.5 out of 2\n",
      "22:1.0 out of 1\n",
      "21:1.0 out of 2\n",
      "16:0.0 out of 3\n",
      "15:0.0 out of 1\n",
      "18:1.0 out of 2\n",
      "19:0.0 out of 1\n",
      "\n",
      "SPEEDLIMIT..............\n",
      "15:0.049689440993788817 out of 322\n",
      "20:0.13689582707895526 out of 3331\n",
      "35:0.5890151515151515 out of 528\n",
      "30:0.5429497568881686 out of 1234\n",
      "65:0.5182481751824818 out of 137\n",
      "0:0.06179775280898876 out of 356\n",
      "25:0.46201463140123805 out of 1777\n",
      "55:0.2222222222222222 out of 90\n",
      "45:0.4666666666666667 out of 15\n",
      "\n",
      "Struct_Cnd..............\n",
      "4:0.2122905027932961 out of 179\n",
      "2:0.3340843916427694 out of 4882\n",
      "3:0.35373665480427047 out of 1405\n",
      "1:0.2250879249706917 out of 853\n",
      "0:0.07643312101910828 out of 471\n",
      "\n",
      "Surface_Tp..............\n",
      "6:0.3312937062937063 out of 6864\n",
      "0:0.07658643326039387 out of 457\n",
      "7:0.4305555555555556 out of 72\n",
      "5:0.14788732394366197 out of 284\n",
      "4:0.2777777777777778 out of 18\n",
      "8:0.375 out of 16\n",
      "2:0.013888888888888888 out of 72\n",
      "1:0.0 out of 1\n",
      "3:0.0 out of 6\n",
      "\n",
      "F_F_Class..............\n",
      "7:0.31016278046634405 out of 6819\n",
      "3:0.3711340206185567 out of 194\n",
      "0:0.06557377049180328 out of 366\n",
      "4:0.4794007490636704 out of 267\n",
      "5:0.4636363636363636 out of 110\n",
      "2:0.08695652173913043 out of 23\n",
      "1:0.18181818181818182 out of 11\n"
     ]
    }
   ],
   "source": [
    "items = json.load(open(PROCESSED_DATA_FP + '/inters_data.json'))\n",
    "\n",
    "#feats = ['hwy_type', 'width', 'lanes', 'osm_speed', 'signal', 'SPEEDLIMIT', 'Struct_Cnd', 'Surface_Tp', 'F_F_Class']\n",
    "\n",
    "print(len(items))\n",
    "print(\"************************************\")\n",
    "get_int_feat('signal', items)\n",
    "get_int_feat('lanes', items)\n",
    "get_int_feat('width', items, [9, 14, 19, 29])\n",
    "get_int_feat('oneway', items)\n",
    "\n",
    "# Highway types are kind of problematic to use max for, but it looks like if they're all residential roads, that really reduces crash risk\n",
    "# Also, too many highway types with combo types (e.g. motorway and motorway link...)\n",
    "get_int_feat('hwy_type', items)\n",
    "\n",
    "get_int_feat('SPEEDLIMIT', items)\n",
    "\n",
    "get_int_feat('Struct_Cnd', items)\n",
    "\n",
    "get_int_feat('Surface_Tp', items)\n",
    "\n",
    "get_int_feat('F_F_Class', items)"
   ]
  },
  {
   "cell_type": "code",
   "execution_count": 20,
   "metadata": {},
   "outputs": [
    {
     "name": "stdout",
     "output_type": "stream",
     "text": [
      "\n",
      "intersection_segments..............\n",
      "4:0.31384892086330934 out of 2224\n",
      "10:0.5272496831432193 out of 789\n",
      "6:0.40160642570281124 out of 498\n",
      "15:0.5942857142857143 out of 175\n",
      "5:0.3403010033444816 out of 1196\n",
      "3:0.1904427266338721 out of 2846\n",
      "40:0.2916666666666667 out of 24\n",
      "20:0.5263157894736842 out of 38\n",
      "\n",
      "width_per_lane..............\n",
      "10:0.27605381165919285 out of 5575\n",
      "15:0.4585551330798479 out of 1315\n",
      "5:0.09090909090909091 out of 517\n",
      "25:0.5194805194805194 out of 77\n",
      "20:0.5856573705179283 out of 251\n",
      "50:0.32727272727272727 out of 55\n"
     ]
    }
   ],
   "source": [
    "get_int_feat('intersection_segments', items, [3, 4, 5, 6, 10, 15, 20, 40])\n",
    "get_int_feat('width_per_lane', items, [5, 10, 15, 20, 25, 50])"
   ]
  }
 ],
 "metadata": {
  "kernelspec": {
   "display_name": "Python 3",
   "language": "python",
   "name": "python3"
  },
  "language_info": {
   "codemirror_mode": {
    "name": "ipython",
    "version": 3
   },
   "file_extension": ".py",
   "mimetype": "text/x-python",
   "name": "python",
   "nbconvert_exporter": "python",
   "pygments_lexer": "ipython3",
   "version": "3.6.5"
  }
 },
 "nbformat": 4,
 "nbformat_minor": 2
}
