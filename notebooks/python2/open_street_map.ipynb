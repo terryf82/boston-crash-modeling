{
 "cells": [
  {
   "cell_type": "code",
   "execution_count": 57,
   "metadata": {
    "collapsed": true
   },
   "outputs": [],
   "source": [
    "import osmnx as ox, geopandas as gpd\n",
    "from shapely.geometry import Point, MultiLineString\n",
    "\n",
    "import os\n",
    "BASE_DIR = os.path.dirname(os.getcwd())\n",
    "os.chdir(BASE_DIR + '/src/data/')\n",
    "import util\n",
    "os.chdir(BASE_DIR + '/notebooks/')"
   ]
  },
  {
   "cell_type": "code",
   "execution_count": 58,
   "metadata": {
    "collapsed": true
   },
   "outputs": [],
   "source": [
    "gdf_place = ox.gdf_from_place('Cambridge, Massachusetts, USA')\n",
    "polygon = gdf_place['geometry'].unary_union\n",
    "cambridge = ox.core.osm_net_download(polygon)"
   ]
  },
  {
   "cell_type": "code",
   "execution_count": 59,
   "metadata": {},
   "outputs": [],
   "source": [
    "elements = cambridge[0]['elements']\n",
    "\n",
    "# Grab all the ways in a list\n",
    "#ways = [x for x in elements if x['type'] == 'way']\n",
    "\n",
    "# Turn the nodes into key value pairs where key is the node id\n",
    "nodes = {x['id']: x for x in elements if x['type'] == 'node'}\n"
   ]
  },
  {
   "cell_type": "code",
   "execution_count": 71,
   "metadata": {},
   "outputs": [
    {
     "name": "stdout",
     "output_type": "stream",
     "text": [
      "Found 1601 residential roads\n",
      "Found 1842 unnamed roads\n",
      "Found 53 service roads or footpaths\n",
      "Found 4535 intersections\n"
     ]
    }
   ],
   "source": [
    "node_counts = {}\n",
    "dup_nodes = {}\n",
    "# Any node that's shared by more than one way is an intersection\n",
    "\n",
    "non_named_count = 0\n",
    "way_lines = []\n",
    "unnamed_lines = []\n",
    "service_lines = []\n",
    "for way in elements:\n",
    "    if way['type'] == 'way':\n",
    "\n",
    "        coords = []\n",
    "        way_nodes = way['nodes']\n",
    "    \n",
    "        prev = None\n",
    "        for i in range(len(way_nodes)):\n",
    "            n = way_nodes[i]\n",
    "            if prev:\n",
    "                coords.append((\n",
    "                (prev['lon'], prev['lat']),\n",
    "                (nodes[n]['lon'], nodes[n]['lat']),\n",
    "            ))\n",
    "            prev = nodes[n]\n",
    "\n",
    "            if n in node_counts.keys():\n",
    "                dup_nodes[n] = 1\n",
    "\n",
    "            else:\n",
    "                node_counts[n] = 0\n",
    "            node_counts[n] += 1\n",
    "        # Make the multiline string for this way\n",
    "        name = None\n",
    "        if 'name' in way['tags'].keys():\n",
    "            if way['tags']['highway'] in ('service', 'footway'):\n",
    "                service_lines.append((MultiLineString(coords), {'name': way['tags']['name'], 'id': way['id']}))\n",
    "            else:    \n",
    "                way_lines.append((MultiLineString(coords), {'name': way['tags']['name'], 'id': way['id']}))\n",
    "        else:\n",
    "            unnamed_lines.append((MultiLineString(coords), {'id': way['id']}))\n",
    "            non_named_count += 1\n",
    "    \n",
    "\n",
    "print 'Found ' + str(len(way_lines)) + ' residential roads'\n",
    "print 'Found ' + str(len(unnamed_lines)) + ' unnamed roads'\n",
    "print 'Found ' + str(len(service_lines)) + ' service roads or footpaths'\n",
    "print \"Found \" + str(len(dup_nodes.keys())) + \" intersections\""
   ]
  },
  {
   "cell_type": "code",
   "execution_count": 72,
   "metadata": {},
   "outputs": [
    {
     "name": "stdout",
     "output_type": "stream",
     "text": [
      "(<shapely.geometry.multilinestring.MultiLineString object at 0x7f8490315dd0>, {'name': u'Columbia Street', 'id': 8604746})\n",
      "{'name': u'Columbia Street', 'id': 8604746}\n",
      "finished 0 of 4535\n",
      "finished 500 of 4535\n",
      "finished 1000 of 4535\n",
      "finished 1500 of 4535\n",
      "finished 2000 of 4535\n",
      "finished 2500 of 4535\n",
      "finished 3000 of 4535\n",
      "finished 3500 of 4535\n",
      "finished 4000 of 4535\n",
      "finished 4500 of 4535\n"
     ]
    }
   ],
   "source": [
    "# Write all the ways out\n",
    "schema = {'geometry': 'MultiLineString', 'properties': {'id': 'int', 'name': 'str'}}\n",
    "util.write_shp(schema, BASE_DIR + '/osm-data/processed/maps/named_ways.shp', way_lines, 0, 1)\n",
    "\n",
    "# Write the service roads\n",
    "util.write_shp(schema, BASE_DIR + '/osm-data/processed/maps/service_ways.shp', service_lines, 0, 1)\n",
    "\n",
    "# Write the unnamed ways out\n",
    "schema = {'geometry': 'MultiLineString', 'properties': {'id': 'int'}}\n",
    "print way_lines[0]\n",
    "print way_lines[0][1]\n",
    "util.write_shp(schema, BASE_DIR + '/osm-data/processed/maps/unnamed_ways.shp', unnamed_lines, 0, 1)\n",
    "\n",
    "\n",
    "points = []\n",
    "\n",
    "for node in dup_nodes.keys():\n",
    "    points.append((\n",
    "        Point(nodes[node]['lon'], nodes[node]['lat']),\n",
    "        {'node_id': node}\n",
    "    ))\n",
    "schema = {'geometry': 'Point', 'properties': {'node_id': 'int'}}\n",
    "util.write_points(points, schema, BASE_DIR + '/osm-data/processed/maps/osm_inter.shp')"
   ]
  }
 ],
 "metadata": {
  "kernelspec": {
   "display_name": "Python 2",
   "language": "python",
   "name": "python2"
  },
  "language_info": {
   "codemirror_mode": {
    "name": "ipython",
    "version": 2
   },
   "file_extension": ".py",
   "mimetype": "text/x-python",
   "name": "python",
   "nbconvert_exporter": "python",
   "pygments_lexer": "ipython2",
   "version": "2.7.13"
  }
 },
 "nbformat": 4,
 "nbformat_minor": 2
}
