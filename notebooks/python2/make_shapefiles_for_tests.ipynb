{
 "cells": [
  {
   "cell_type": "markdown",
   "metadata": {},
   "source": [
    "This makes dummy shapefiles from an existing shapefile for the purposes of unit tests"
   ]
  },
  {
   "cell_type": "code",
   "execution_count": 1,
   "metadata": {
    "collapsed": true
   },
   "outputs": [],
   "source": [
    "import json\n",
    "import os\n",
    "BASE_DIR = os.path.dirname(os.getcwd())\n",
    "os.chdir(BASE_DIR + '/src/data/')\n",
    "import util\n",
    "os.chdir(BASE_DIR + '/notebooks/')\n",
    "\n",
    "MAP_FP = \"../osm-data/processed/maps/\"\n",
    "RAW_FP = \"../osm-data/raw/\""
   ]
  },
  {
   "cell_type": "code",
   "execution_count": 6,
   "metadata": {
    "collapsed": true
   },
   "outputs": [],
   "source": [
    "shp_read = util.read_shp(os.path.join(MAP_FP, 'osm_ways.shp'))\n",
    "tmp = [x for x in shp_read if x[1]['name'] is not None and x[1]['name'] in ('Boston Street', 'Southampton Street', 'Dorchester Avenue', 'Dorchester Street', 'Preble Street')]\n",
    "properties = {k: 'str' for k in shp_read[0][1].keys()}\n",
    "schema = {\n",
    "    'geometry': 'LineString',\n",
    "    'properties': properties\n",
    "}\n",
    "# Write a file in original projection\n",
    "util.write_shp(schema,\n",
    "    os.path.join(MAP_FP, 'small_test.shp'),\n",
    "    tmp,\n",
    "    0, 1\n",
    ")"
   ]
  },
  {
   "cell_type": "code",
   "execution_count": 7,
   "metadata": {},
   "outputs": [
    {
     "name": "stdout",
     "output_type": "stream",
     "text": [
      "233\n",
      "(<shapely.geometry.linestring.LineString object at 0x7f7d1b3f9f90>, OrderedDict([(u'OBJECTID', 784), (u'SEGMENT_ID', 803), (u'L_F_ADD', u'34'), (u'L_T_ADD', u'40'), (u'R_F_ADD', u'35'), (u'R_T_ADD', u'41'), (u'PRE_DIR', None), (u'ST_NAME', u'Boston'), (u'ST_TYPE', u'ST'), (u'SUF_DIR', None), (u'MUN_L', u'Boston'), (u'MUN_R', u'Boston'), (u'CFCC', u'A31'), (u'SPEEDLIMIT', 25), (u'ONEWAY', None), (u'HEIGHT', None), (u'WEIGHT', None), (u'WIDTH', None), (u'F_ZLEV', 0), (u'T_ZLEV', 0), (u'SHIELD', None), (u'HWY_NUM', None), (u'NBHD_L', u'South Boston'), (u'NBHD_R', u'South Boston'), (u'FT_COST', 0.043), (u'TF_COST', 0.043), (u'TF_DIR', None), (u'FT_DIR', None), (u'STATE00_L', u'MA'), (u'STATE00_R', u'MA'), (u'COUNTY00_L', u'025'), (u'COUNTY00_R', u'025'), (u'PLACE00_L', u'07000'), (u'PLACE00_R', u'07000'), (u'TRACT00_L', u'02127'), (u'TRACT00_R', u'02127'), (u'BLOCK00_L', None), (u'BLOCK00_R', None), (u'MCD00_L', u'07000'), (u'MCD00_R', u'07000'), (u'STREET_ID', 474), (u'SHAPESTLen', 97.87855576883341)]))\n"
     ]
    }
   ],
   "source": [
    "# Read in Boston_Segments\n",
    "segments = util.read_shp(os.path.join(RAW_FP, 'Boston_Segments.shp'))\n",
    "tmp = [x for x in segments if x[1]['ST_NAME'] and x[1]['ST_NAME'] in ('Boston', 'Dorchester', 'Preble', 'Southampton')]\n",
    "print len(tmp)\n",
    "print tmp[0]"
   ]
  },
  {
   "cell_type": "code",
   "execution_count": 8,
   "metadata": {
    "collapsed": true
   },
   "outputs": [],
   "source": [
    "properties = {k: 'str' for k in tmp[0][1].keys()}\n",
    "schema = {\n",
    "    'geometry': 'LineString',\n",
    "    'properties': properties\n",
    "}\n",
    "# Write a file in original projection\n",
    "util.write_shp(schema,\n",
    "    os.path.join(MAP_FP, 'boston_small.shp'),\n",
    "    tmp,\n",
    "    0, 1\n",
    ")"
   ]
  },
  {
   "cell_type": "code",
   "execution_count": 9,
   "metadata": {},
   "outputs": [
    {
     "name": "stdout",
     "output_type": "stream",
     "text": [
      "233\n"
     ]
    }
   ],
   "source": [
    "# Read in ma_cob\n",
    "ma_cob = util.read_shp(os.path.join(MAP_FP, 'ma_cob_spatially_joined_streets.shp'))\n",
    "tmp = [x for x in ma_cob if x[1]['ST_NAME'] and x[1]['ST_NAME'] in ('Boston', 'Dorchester', 'Preble', 'Southampton')]\n",
    "print len(tmp)"
   ]
  },
  {
   "cell_type": "code",
   "execution_count": 6,
   "metadata": {
    "collapsed": true
   },
   "outputs": [],
   "source": []
  },
  {
   "cell_type": "code",
   "execution_count": 10,
   "metadata": {
    "collapsed": true
   },
   "outputs": [],
   "source": [
    "properties = {k: 'str' for k in tmp[0][1].keys()}\n",
    "schema = {\n",
    "    'geometry': 'LineString',\n",
    "    'properties': properties\n",
    "}\n",
    "# Write a file in original projection\n",
    "util.write_shp(schema,\n",
    "    os.path.join(MAP_FP, 'ma_cob_small.shp'),\n",
    "    tmp,\n",
    "    0, 1\n",
    ")"
   ]
  }
 ],
 "metadata": {
  "kernelspec": {
   "display_name": "Python 2",
   "language": "python",
   "name": "python2"
  },
  "language_info": {
   "codemirror_mode": {
    "name": "ipython",
    "version": 2
   },
   "file_extension": ".py",
   "mimetype": "text/x-python",
   "name": "python",
   "nbconvert_exporter": "python",
   "pygments_lexer": "ipython2",
   "version": "2.7.13"
  }
 },
 "nbformat": 4,
 "nbformat_minor": 2
}
