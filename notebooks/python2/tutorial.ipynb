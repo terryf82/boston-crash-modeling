{
 "cells": [
  {
   "cell_type": "markdown",
   "metadata": {},
   "source": [
    "Before you get started, you need to get an account for data.world, and download the data/ directory.  That directory goes in the boston-crash-modeling directory."
   ]
  },
  {
   "cell_type": "code",
   "execution_count": 4,
   "metadata": {
    "collapsed": true
   },
   "outputs": [],
   "source": [
    "PROCESSED_DATA_FP = '../osm-data/processed/'"
   ]
  },
  {
   "cell_type": "code",
   "execution_count": 5,
   "metadata": {
    "collapsed": true
   },
   "outputs": [],
   "source": [
    "import json\n",
    "import os\n",
    "BASE_DIR = os.path.dirname(os.getcwd())\n",
    "os.chdir(BASE_DIR + '/src/data/')\n",
    "import util\n",
    "os.chdir(BASE_DIR + '/notebooks/')"
   ]
  },
  {
   "cell_type": "markdown",
   "metadata": {},
   "source": [
    "In data/processed/ there is a file called crash_joined.json.  This is a list of dicts containing each crash event and which road segment (intersection or non-intersection) it is closest to."
   ]
  },
  {
   "cell_type": "code",
   "execution_count": 6,
   "metadata": {},
   "outputs": [
    {
     "name": "stdout",
     "output_type": "stream",
     "text": [
      "7220 crashes found\n",
      "{u'vehicles': u\"[{u'category': u'car'}]\", u'summary': u'REPORTED INJURIES   (P) (E) (F)', u'persons': u'{}', u'address': u'None', u'id': u'1403832', u'near_id': u'0011059', u'dateOccurred': u'2016-01-01 00:56:45-05:00'}\n",
      "3379 unique crash locations found\n",
      "\n",
      "Highest number of crashes at any one location: [38, 34, 31, 29, 29, 27, 27, 27, 22, 21]\n"
     ]
    }
   ],
   "source": [
    "items = json.load(open(PROCESSED_DATA_FP + 'crash_joined.json'))\n",
    "crash_list, crashes_by_id = util.group_json_by_location(items)\n",
    "print str(len(crash_list)) + \" crashes found\"\n",
    "\n",
    "# Crash_list is a list of dicts about each individual crash\n",
    "print crash_list[0]\n",
    "\n",
    "# Crashes by id is a dict where the key is the segment id.  It contains the count of crashes at that intersection\n",
    "# Can also contain other information about this location, if called with arg otherfields.  In this case, we're\n",
    "# Looking at time\n",
    "sorted = [value['count'] for key,value in crashes_by_id.items() if key != '']\n",
    "sorted.sort(reverse=True)\n",
    "print str(len(sorted)) + \" unique crash locations found\\n\"\n",
    "\n",
    "print \"Highest number of crashes at any one location: \" + str(sorted[0:10])\n",
    "worst_id = [key for key, value in crashes_by_id.items() if value['count'] == sorted[0]][0]\n"
   ]
  },
  {
   "cell_type": "code",
   "execution_count": 7,
   "metadata": {},
   "outputs": [
    {
     "name": "stdout",
     "output_type": "stream",
     "text": [
      "(u'Oxford St & Beacon St, Somerville, MA 02143, USA', 42.3860143, -71.1161841)\n"
     ]
    }
   ],
   "source": [
    "x = util.geocode_address('Beacon and Oxford, Somerville MA')\n",
    "print x"
   ]
  }
 ],
 "metadata": {
  "kernelspec": {
   "display_name": "Python 2",
   "language": "python",
   "name": "python2"
  },
  "language_info": {
   "codemirror_mode": {
    "name": "ipython",
    "version": 2
   },
   "file_extension": ".py",
   "mimetype": "text/x-python",
   "name": "python",
   "nbconvert_exporter": "python",
   "pygments_lexer": "ipython2",
   "version": "2.7.13"
  }
 },
 "nbformat": 4,
 "nbformat_minor": 2
}
